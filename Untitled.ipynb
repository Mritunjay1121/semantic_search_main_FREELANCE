{
 "cells": [
  {
   "cell_type": "code",
   "execution_count": 1,
   "id": "7c14d1d5-41d2-4162-858b-5aaddf9d2b9e",
   "metadata": {},
   "outputs": [],
   "source": [
    "import pandas as pd\n",
    "import random\n",
    "import string\n",
    "import yaml"
   ]
  },
  {
   "cell_type": "code",
   "execution_count": 3,
   "id": "1244816b-f22d-479f-823d-784ea0860a93",
   "metadata": {},
   "outputs": [],
   "source": [
    "characters = string.ascii_letters + string.digits\n",
    "unique_values = set()\n",
    "while len(unique_values) < 1000:\n",
    "    random_value = ''.join(random.choice(characters) for _ in range(10))\n",
    "    unique_values.add(random_value)"
   ]
  },
  {
   "cell_type": "code",
   "execution_count": 5,
   "id": "89eef792-3943-4a17-abee-eea0c10d8999",
   "metadata": {},
   "outputs": [
    {
     "data": {
      "text/plain": [
       "1000"
      ]
     },
     "execution_count": 5,
     "metadata": {},
     "output_type": "execute_result"
    }
   ],
   "source": [
    "len(unique_values)\n"
   ]
  },
  {
   "cell_type": "code",
   "execution_count": 12,
   "id": "6549aaea-eb90-4265-9b78-227d4ebcc46e",
   "metadata": {},
   "outputs": [
    {
     "data": {
      "text/plain": [
       "True"
      ]
     },
     "execution_count": 12,
     "metadata": {},
     "output_type": "execute_result"
    }
   ],
   "source": [
    "from elasticsearch import Elasticsearch\n",
    "\n",
    "es = Elasticsearch(\n",
    "        \"https://localhost:9200\",\n",
    "        basic_auth=(\"elastic\",\"1121@Elasticsearch\"),\n",
    "        ca_certs=\"C:/elasticsearch-8.13.0/config/certs/http_ca.crt\"\n",
    "    )\n",
    "es.ping()"
   ]
  },
  {
   "cell_type": "code",
   "execution_count": null,
   "id": "e15f4c7c-df9c-4f4e-be59-3074f578ef26",
   "metadata": {},
   "outputs": [],
   "source": []
  }
 ],
 "metadata": {
  "kernelspec": {
   "display_name": "Python 3 (ipykernel)",
   "language": "python",
   "name": "python3"
  },
  "language_info": {
   "codemirror_mode": {
    "name": "ipython",
    "version": 3
   },
   "file_extension": ".py",
   "mimetype": "text/x-python",
   "name": "python",
   "nbconvert_exporter": "python",
   "pygments_lexer": "ipython3",
   "version": "3.8.0"
  }
 },
 "nbformat": 4,
 "nbformat_minor": 5
}
